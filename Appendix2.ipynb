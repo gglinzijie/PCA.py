{
 "cells": [
  {
   "cell_type": "code",
   "execution_count": 1,
   "metadata": {},
   "outputs": [
    {
     "data": {
      "text/html": [
       "<style>\n",
       ".list-inline {list-style: none; margin:0; padding: 0}\n",
       ".list-inline>li {display: inline-block}\n",
       ".list-inline>li:not(:last-child)::after {content: \"\\00b7\"; padding: 0 .5ex}\n",
       "</style>\n",
       "<ol class=list-inline><li>1100</li><li>12548</li></ol>\n"
      ],
      "text/latex": [
       "\\begin{enumerate*}\n",
       "\\item 1100\n",
       "\\item 12548\n",
       "\\end{enumerate*}\n"
      ],
      "text/markdown": [
       "1. 1100\n",
       "2. 12548\n",
       "\n",
       "\n"
      ],
      "text/plain": [
       "[1]  1100 12548"
      ]
     },
     "metadata": {},
     "output_type": "display_data"
    },
    {
     "data": {
      "text/html": [
       "<style>\n",
       ".list-inline {list-style: none; margin:0; padding: 0}\n",
       ".list-inline>li {display: inline-block}\n",
       ".list-inline>li:not(:last-child)::after {content: \"\\00b7\"; padding: 0 .5ex}\n",
       "</style>\n",
       "<ol class=list-inline><li>993</li><li>19227</li></ol>\n"
      ],
      "text/latex": [
       "\\begin{enumerate*}\n",
       "\\item 993\n",
       "\\item 19227\n",
       "\\end{enumerate*}\n"
      ],
      "text/markdown": [
       "1. 993\n",
       "2. 19227\n",
       "\n",
       "\n"
      ],
      "text/plain": [
       "[1]   993 19227"
      ]
     },
     "metadata": {},
     "output_type": "display_data"
    },
    {
     "data": {
      "text/html": [
       "<style>\n",
       ".list-inline {list-style: none; margin:0; padding: 0}\n",
       ".list-inline>li {display: inline-block}\n",
       ".list-inline>li:not(:last-child)::after {content: \"\\00b7\"; padding: 0 .5ex}\n",
       "</style>\n",
       "<ol class=list-inline><li>1017</li><li>21272</li></ol>\n"
      ],
      "text/latex": [
       "\\begin{enumerate*}\n",
       "\\item 1017\n",
       "\\item 21272\n",
       "\\end{enumerate*}\n"
      ],
      "text/markdown": [
       "1. 1017\n",
       "2. 21272\n",
       "\n",
       "\n"
      ],
      "text/plain": [
       "[1]  1017 21272"
      ]
     },
     "metadata": {},
     "output_type": "display_data"
    },
    {
     "data": {
      "text/html": [
       "4646"
      ],
      "text/latex": [
       "4646"
      ],
      "text/markdown": [
       "4646"
      ],
      "text/plain": [
       "[1] 4646"
      ]
     },
     "metadata": {},
     "output_type": "display_data"
    },
    {
     "name": "stdout",
     "output_type": "stream",
     "text": [
      " num [1:3110, 1:4646] 1 0 0 0 -1 -1 0 -1 1 0 ...\n",
      " - attr(*, \"dimnames\")=List of 2\n",
      "  ..$ : chr [1:3110] \"1\" \"2\" \"3\" \"4\" ...\n",
      "  ..$ : chr [1:4646] \"chr9.7831_G\" \"chr9.7851_T\" \"chr9.7866_T\" \"chr9.7956_G\" ...\n"
     ]
    }
   ],
   "source": [
    "#PopFM\n",
    "reorderG<-read.table(\"GS2018/reorderG.txt\")\n",
    "x1<-as.matrix(reorderG)-1\n",
    "#PopLFM1\n",
    "reorderG<-read.table(\"GS2019/reorderG.txt\")\n",
    "x2<-as.matrix(reorderG)-1\n",
    "#PopLFM2\n",
    "reorderG<-read.table(\"GS2020/reorderG.txt\")\n",
    "x3<-as.matrix(reorderG)-1\n",
    "\n",
    "# Dim of marker matrix in each population\n",
    "dim(x1)\n",
    "dim(x2)\n",
    "dim(x3)\n",
    "n1<-dim(x1)[1]\n",
    "n2<-dim(x2)[1]\n",
    "n3<-dim(x3)[1]\n",
    "\n",
    "# Shared loci across 3 populations\n",
    "m<-intersect(colnames(x1),colnames(x2))\n",
    "m2<-intersect(m,colnames(x3))\n",
    "length(m2)\n",
    "\n",
    "x1_intersect<-x1[,(colnames(x1)%in%m2)]\n",
    "x2_intersect<-x2[,(colnames(x2)%in%m2)]\n",
    "x3_intersect<-x3[,(colnames(x3)%in%m2)]\n",
    "x_all<-rbind(x1_intersect,x2_intersect,x3_intersect)\n",
    "str(x_all)"
   ]
  },
  {
   "cell_type": "code",
   "execution_count": 48,
   "metadata": {},
   "outputs": [],
   "source": [
    "# Fst (Hudson et al., 1992) \n",
    "# Hudson, R.R., Slatkin, M., Maddison, W.P., 1992. Estimation of levels of gene flow from DNA-sequence data. Genetics 132(2), 583-589. https://doi.org/10.1093/genetics/132.2.583.\n",
    "# modified from: https://bios1140.github.io/understanding-fst-the-fixation-index.html\n",
    "\n",
    "# a simple function to calculate allele frequencies in two populations\n",
    "calc_af <- function(counts){\n",
    "  # get the number of samples\n",
    "  n <- length(counts)\n",
    "  # calculate frequency of 1st allele - p\n",
    "  p <- ((sum(counts==-1)*2) + sum(counts==-0))/(2*n)\n",
    "  return(p)\n",
    "}\n",
    "\n",
    "# a function to calculate fst\n",
    "calc_fst <- function(p_1, p_2){\n",
    "  \n",
    "  # calculate q1 and q2\n",
    "  q_1 <- 1 - p_1\n",
    "  q_2 <- 1 - p_2\n",
    "  \n",
    "  # calculate total allele frequency\n",
    "  p_t <- (p_1 + p_2)/2\n",
    "  q_t <- 1 - p_t\n",
    "  \n",
    "  # calculate expected heterozygosity\n",
    "  # first calculate expected heterozygosity for the two populations\n",
    "  # pop1\n",
    "  hs_1 <- 2*p_1*q_1\n",
    "  # pop2\n",
    "  hs_2 <- 2*p_2*q_2\n",
    "  # then take the mean of this\n",
    "  hs <- (hs_1 + hs_2)/2\n",
    "  \n",
    "  # next calculate expected heterozygosity for the metapopulations\n",
    "  ht <- 2*p_t*q_t\n",
    "  \n",
    "  # calculate fst\n",
    "  fst <- (ht - hs)/ht\n",
    "  \n",
    "  # return output\n",
    "  return(fst)\n",
    "}\n",
    "\n",
    "# Test\n",
    "# calc_fst(calc_af(x1_intersect[,1]),calc_af(x2_intersect[,1])) "
   ]
  },
  {
   "cell_type": "code",
   "execution_count": 53,
   "metadata": {},
   "outputs": [],
   "source": [
    "p1 <- apply(x1_intersect, 2, calc_af)\n",
    "p2 <- apply(x2_intersect, 2, calc_af)\n",
    "p3 <- apply(x3_intersect, 2, calc_af)"
   ]
  },
  {
   "cell_type": "code",
   "execution_count": 57,
   "metadata": {},
   "outputs": [],
   "source": [
    "Fst12<-c()\n",
    "for (i in 1:length(p1)){\n",
    "    Fst12<-c(Fst12,calc_fst(p1[i],p2[i]))\n",
    "}\n",
    "Fst13<-c()\n",
    "for (i in 1:length(p1)){\n",
    "    Fst13<-c(Fst13,calc_fst(p1[i],p3[i]))\n",
    "}\n",
    "Fst23<-c()\n",
    "for (i in 1:length(p1)){\n",
    "    Fst23<-c(Fst23,calc_fst(p2[i],p3[i]))\n",
    "}"
   ]
  },
  {
   "cell_type": "code",
   "execution_count": 58,
   "metadata": {},
   "outputs": [
    {
     "data": {
      "text/html": [
       "0.00654687526541662"
      ],
      "text/latex": [
       "0.00654687526541662"
      ],
      "text/markdown": [
       "0.00654687526541662"
      ],
      "text/plain": [
       "[1] 0.006546875"
      ]
     },
     "metadata": {},
     "output_type": "display_data"
    },
    {
     "data": {
      "text/html": [
       "0.00915162739189123"
      ],
      "text/latex": [
       "0.00915162739189123"
      ],
      "text/markdown": [
       "0.00915162739189123"
      ],
      "text/plain": [
       "[1] 0.009151627"
      ]
     },
     "metadata": {},
     "output_type": "display_data"
    },
    {
     "data": {
      "text/html": [
       "0.0070170977236541"
      ],
      "text/latex": [
       "0.0070170977236541"
      ],
      "text/markdown": [
       "0.0070170977236541"
      ],
      "text/plain": [
       "[1] 0.007017098"
      ]
     },
     "metadata": {},
     "output_type": "display_data"
    }
   ],
   "source": [
    "#PopFM-PopLFM1\n",
    "mean(Fst12)\n",
    "#PopFM-PopLFM2\n",
    "mean(Fst13)\n",
    "#PopLFM1-PopLFM2\n",
    "mean(Fst23)"
   ]
  }
 ],
 "metadata": {
  "kernelspec": {
   "display_name": "R",
   "language": "R",
   "name": "ir"
  },
  "language_info": {
   "codemirror_mode": "r",
   "file_extension": ".r",
   "mimetype": "text/x-r-source",
   "name": "R",
   "pygments_lexer": "r",
   "version": "3.6.3"
  }
 },
 "nbformat": 4,
 "nbformat_minor": 4
}
